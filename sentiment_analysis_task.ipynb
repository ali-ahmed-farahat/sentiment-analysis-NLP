{
 "cells": [
  {
   "cell_type": "code",
   "execution_count": 32,
   "metadata": {},
   "outputs": [
    {
     "name": "stdout",
     "output_type": "stream",
     "text": [
      "  product/productId                                      product/title  \\\n",
      "0        B0009F5ZXS  Dimarzio Virtual Hot PAF Bridge - Black Finish...   \n",
      "1        B000EENAE0  Danelectro DJ-20C Rocky Road Spin Speaker Mini...   \n",
      "2        B000EENAE0  Danelectro DJ-20C Rocky Road Spin Speaker Mini...   \n",
      "3        B000EENAE0  Danelectro DJ-20C Rocky Road Spin Speaker Mini...   \n",
      "4        B000EENAE0  Danelectro DJ-20C Rocky Road Spin Speaker Mini...   \n",
      "\n",
      "  product/price   review/userId review/profileName review/helpfulness  \\\n",
      "0         69.00  A3915SRVUGEXY5            plinker                2/2   \n",
      "1         60.74  A31KXTOQNTWUVM         Bill Board                9/9   \n",
      "2         60.74  A1EJ0E61P5F3YL           Laus Deo                3/3   \n",
      "3         60.74  A30ROM67HSGKWL                 Al                2/2   \n",
      "4         60.74   AGETSICLTBAQO          Dave Puzz                1/1   \n",
      "\n",
      "  review/score review/time                                     review/summary  \\\n",
      "0          3.0  1336780800                           Wrong pickup description   \n",
      "1          5.0  1241308800    Now I won't have to invest in a Leslie speaker!   \n",
      "2          4.0  1316649600                                            Fun Toy   \n",
      "3          5.0  1313712000  Danelectro DJ-20C Rocky Road Spin Speaker Mini...   \n",
      "4          5.0  1318032000                               Leslie in a nutshell   \n",
      "\n",
      "                                         review/text  \n",
      "0  The name and description of this Pickup, Virtu...  \n",
      "1  No other way to put it: this thing is WONDERFU...  \n",
      "2  This effect has an interesting sound somewhere...  \n",
      "3  This pedal is cheaply made but it sounds terri...  \n",
      "4  Danelectro DJ-20C Rocky Road Spin Speaker Mini...  \n"
     ]
    }
   ],
   "source": [
    "import pandas as pd\n",
    "\n",
    "def parse_review_file(file_path):\n",
    "    reviews = []\n",
    "    review = {}\n",
    "    with open(file_path, 'r', encoding='utf-8') as file:\n",
    "        for line in file:\n",
    "            line = line.strip()\n",
    "            if not line:\n",
    "                if review:  # If review is not empty, append it and reset\n",
    "                    reviews.append(review)\n",
    "                    review = {}\n",
    "            else:\n",
    "                split_line = line.split(': ', 1)\n",
    "                if len(split_line) == 2:\n",
    "                    key, value = split_line\n",
    "                    review[key] = value\n",
    "        if review:  # Append last review if file doesn't end with blank line\n",
    "            reviews.append(review)\n",
    "    \n",
    "    return pd.DataFrame(reviews)\n",
    "\n",
    "# Example usage:\n",
    "df = parse_review_file('Musical_Instruments.txt')\n",
    "print(df.head())\n"
   ]
  },
  {
   "cell_type": "code",
   "execution_count": 33,
   "metadata": {},
   "outputs": [],
   "source": [
    "df['review/score'] = df['review/score'].astype(float)\n",
    "\n",
    "def label_sentiment(score):\n",
    "    if score >= 4:\n",
    "        return 'positive'\n",
    "    elif score <= 2:\n",
    "        return 'negative'\n",
    "    \n",
    "    else:\n",
    "        return 'neutral'\n",
    "\n",
    "df['sentiment'] = df['review/score'].apply(label_sentiment)\n",
    "df = df[df['sentiment'] != 'neutral']  # if doing binary sentiment analysis\n",
    "\n"
   ]
  },
  {
   "cell_type": "code",
   "execution_count": 34,
   "metadata": {},
   "outputs": [],
   "source": [
    "df['sentiment'].value_counts()\n",
    "df = df.drop(columns=['product/productId', 'product/title', 'product/price', 'review/userId', 'review/profileName', 'review/time'])\n"
   ]
  },
  {
   "cell_type": "code",
   "execution_count": 36,
   "metadata": {},
   "outputs": [
    {
     "name": "stdout",
     "output_type": "stream",
     "text": [
      "sentiment\n",
      "1    67687\n",
      "0    11213\n",
      "Name: count, dtype: int64\n"
     ]
    },
    {
     "data": {
      "application/vnd.microsoft.datawrangler.viewer.v0+json": {
       "columns": [
        {
         "name": "index",
         "rawType": "int64",
         "type": "integer"
        },
        {
         "name": "review/helpfulness",
         "rawType": "object",
         "type": "string"
        },
        {
         "name": "review/score",
         "rawType": "float64",
         "type": "float"
        },
        {
         "name": "review/summary",
         "rawType": "object",
         "type": "string"
        },
        {
         "name": "review/text",
         "rawType": "object",
         "type": "string"
        },
        {
         "name": "sentiment",
         "rawType": "int64",
         "type": "integer"
        }
       ],
       "conversionMethod": "pd.DataFrame",
       "ref": "208c1502-43d7-489e-a3e8-8bba1981f2b9",
       "rows": [
        [
         "1",
         "9/9",
         "5.0",
         "Now I won't have to invest in a Leslie speaker!",
         "No other way to put it: this thing is WONDERFUL. An ex mother-in-law gave me a cheap \"synth\" sometime back...\"last century,\" and while just looking that the thing brought to mind the adjective \"tacky,\" still, the \"tones generated\" by the thing were far superior to the old used Yamahas that I'd been scooping up at pawn shops. But \"you get what you pay for\" is a truism: while I could make cute little synth bleeps and squeaks, I couldn't get a decent \"organ\" sound out of any of 'em. The Dano Rocky Road Spin Speaker pedal changed all that. While my Casio STILL doesn't sound like a Hammond B3, it, at least, can \"approximate\" a sort of, uh, \"Hammond X-Y-Or Z3\" now. And, joy of joys, my guitar player and I can sit down at gigs and play Keef's leslie'd guitar riff on that Stones' Exile On Main St song, \"Let It Loose\" now perfectly. I love Dano products more and more every time I use any of their stuff, and I can't wait till I can save 4 bills and treat myself to a Dano Bass. But until then, I won't have to worry about investing in a \"legitimate\" synth, Leslie,or a Hammond now, because the Rocky Road Pedal's really done the work for me.",
         "1"
        ],
        [
         "2",
         "3/3",
         "4.0",
         "Fun Toy",
         "This effect has an interesting sound somewhere between a chorus and a distortion device with a slight flange. It really is a great sound and rather unique. Unfortunately, the gain is set too high by default. So that makes it impractical to use in a live setting unless you want a significant boost along with the effect.",
         "1"
        ],
        [
         "3",
         "2/2",
         "5.0",
         "Danelectro DJ-20C Rocky Road Spin Speaker Mini Effects Pedal",
         "This pedal is cheaply made but it sounds terrific, makes even a cheap organ sound half decent.It really does give you that Leslie effect if you mess around with the settings a little.It smells of burnt rubber as it is cheaply made but apart from that, I would highlyrecommend it for a keyboard but not much use for a guitar really. The price is good forwhat you get as with all Danelectro effect pedals. I received mine through Jax Music Supply, LLCwho were great to deal with, for a fast and reliable service.",
         "1"
        ],
        [
         "4",
         "1/1",
         "5.0",
         "Leslie in a nutshell",
         "Danelectro DJ-20C Rocky Road Spin Speaker Mini Effects Pedal, is an amazing little pedal!I use it with guitar, and keyboards.Using with Keyboards, organ mode(doesn't matter which type) jazz, rock, gives me an instant controllable Leslie effects.it includes fast and slow ramp up,boost, volume/drive. thru a mixer in stereo you can do some amazing stuff with this inexpensive unit.The only drawback i have found is the buttons are very hard to engage and disengage.But i'm working on that. i will modify the springs if possible and maybe even send a recommendation to Danelectro.",
         "1"
        ],
        [
         "5",
         "1/2",
         "5.0",
         "Great for guitar if you time it right!",
         "Got this thinking I could make my guitars sound like they were going through a Leslie. Well, eventually it does, but usually by then you are past the point where you need it. But if you learn to put it on fast ramp, and hit it just right, you too can do that wonderful Bo type wah-wah when you do the chorus on Bo Diddley. (and many other times...)Well worth the money, this is a two-fer, also being very useful with keyboards. Holding those chords a-la Steve Winwood, you can make your inexpensive Yamaha or Casio sing like a Leslie is somewhere in the room. For the money, Danelectro is the only way to go, as long as you stay away from the Cool Cat and FAB series. These food pedals and the original big metal pedals are the bee's knees!!",
         "1"
        ],
        [
         "6",
         "0/0",
         "5.0",
         "Product is a solid piece - price is awesome!",
         "Got this for my cowbell and block. Nice and sturdy, takes a wallop and holds, doesn't flip off or keep gradually loosening. Easy to put on, easy to attach instruments, nice piece, Highly recommend it. This Gibraltar is a rock!!!",
         "1"
        ],
        [
         "9",
         "1/1",
         "4.0",
         "Just okay",
         "We bought these bells to use for Christmas music we play. They are okay, but really not very loud considering the number of bells.",
         "1"
        ],
        [
         "10",
         "0/0",
         "5.0",
         "Kids love it",
         "Used fir a jingle bell presentation. Sound is clear and pleasant tone. Durable. Easy for toddlers and adults alike to hold.",
         "1"
        ],
        [
         "11",
         "0/0",
         "4.0",
         "Sounds Like Santa",
         "The bells are exactly what you think they are and sound exactly like you think they do. My daughter was THRILLED to be able to make her own Santa sounds. They seem pretty durable and are great for the price.",
         "1"
        ],
        [
         "12",
         "0/0",
         "5.0",
         "AWESOME",
         "I love this book. It is some cool. I always look words up whenever I am stumped in music theory or just in my practice. It is a very good buy!! I recommend it to anybody who is into music. :)",
         "1"
        ],
        [
         "13",
         "0/0",
         "5.0",
         "Great product",
         "I bought this for my 2 year old son. He is now 3 1/2 and still bangs on it. It's very durable and a good quality product. Remember, it's more a toy, than a drum set, but a great musical toy!",
         "1"
        ],
        [
         "14",
         "0/0",
         "5.0",
         "Awesome Kids Drum Set!!!",
         "We bought this drum set for our 4yr old son & he loves it! It was easy to assemble & it is very stable. It produces great sound & it will last for years!",
         "1"
        ],
        [
         "15",
         "1/1",
         "4.0",
         "Maximum mic inputs for minimum bucks!",
         "This unit is an excellent value. It has lots of mic inputs, as well as line level inputs. The mic channels can also be used for line inputs, but not simultaneously with mics - gotta choose for each channel. The mic preamps are very high quality.The unit will run for several hours on four 9V batteries, useful for remote recording.",
         "1"
        ],
        [
         "16",
         "1/1",
         "4.0",
         "One of my favorite toys!",
         "I enjoy making recordings of my children's piano and band concerts. Usually, I can find electrical power close by, but in cases where I can't, it's really nice to have the option of recording 100% via battery power, and the UBB1002 is one of just a few mixers that offer that capability.I've only used mine with battery power once, but it performed beautifully, providing 18v of phantom power to my Rode NT5 mics. I ran the output of the mixer into a bus powered USB audio interface that was connected to my laptop running on battery power.I have used a software spectrum analyzer (from [...]) to measure the frequency response and noise levels of the mixer, and it is _very_ flat. The eq controls also do an excellent job of only altering the specified frequency range. The mixer is quiet as long as you pay attention to your gain structure and keep the sliders at or below 0 dB.If you're experiencing excessive hiss, you're probably feeding the mixer a signal that is too low. Try increasing the output level on your source or adjusting the gain control on the mixer. You really don't want any of the sliders to be above 0 dB! Oh, also the output is line level, so not intended to feed the microphone input on a laptop PC. You _really_ need an external audio interface like the UCA222, FCA202, or (better) a Creative E-MU 0202 USB that accepts line level signals. If you're using an ASIO driver on Windows, n-Track Studio 6.0 does a nice job as recording software and can take full advantage of the hardware capabilities of your audio interface, up to 24-bits, 192 kHz.It's possible to create two different mixes with the UBB 1002--a stereo mix (perhaps for house or recording) and a mono mix (to feed stage monitors) using the pre-fader \"MON\" controls. I do sometimes wish that there was an additional row of pan knobs so that the monitor mix could be stereo as well, but that's one of the compromises that one must accept with a portable/low cost mixer. The larger XENYX 1204 has this and other capabilities for little more money for folks who can live without battery powered operation.All of this said, Behringer has discontinued this mixer and replaced it with a XENYX model (1002B), which has upgraded mic preamps and \"British EQs\". Both models have sturdy metal cases, nice power supplies, and should provide years of reliable service (well mine has, anyway).",
         "1"
        ],
        [
         "17",
         "0/0",
         "1.0",
         "Unacceptable",
         "The Eurorack was purchased as a portable mixer to tie mics into a camera. The inherent noise in my particular mixer is completely unacceptable. At a very reasonable level using balanced connections the mixer unmistakably colors the sound with a clear sounding \"HISS\". Even when running on batteries and far away from any electronic device the HISS is incredibly loud! Totally unacceptable for my purpose. The unit is now stashed away in a closet, a washed up waste of time!However for those on a budget who desire much greater quality with fewer inputs I HIGHLY recommend a Mackie 402-VLZ3 Four-Channel Compact Audio Mixer. However sometimes fewer inputs are unacceptable. Whatever the case steer clear from behringer!",
         "0"
        ],
        [
         "18",
         "0/0",
         "1.0",
         "Keep looking if you want a portable mixer",
         "I purchased this unit for its battery powered portable usage. It fails miserably as it produces so much hiss it is unusable. I mean it is poor with a captital P.The phantom power does not work when in battery mode, nor does the clipping LED's. Keep on looking if you want portability.",
         "0"
        ],
        [
         "19",
         "0/0",
         "4.0",
         "Nearly perfect",
         "Like another reviewer stated, the manual for the Eurorack leaves a lot to be desired. There's a couple things I can't get it to do. For instance, the headphone jack doesn't seem to work. Nor do the LEDs that show me when I'm clipping. I'm sure I'll figure it out in time. I've only had it a week.That same reviewer also stated difficulty in hooking the mixer to his computer. I don't know what they're talking about there. I just take an RCA from the REC OUT on the mixer, (and you'll need an RCA to 1/8 stereo jack) and then I plug the 1/8 jack into my computer's microphone port. Viola!I use this mixer in conjucture with Cakewalk 9, or Audacity. I used to run my mics into my power mixer and then into the computer. Too much power was going to the mixer though, and I was cursed with this...white noise; a constant hissing. The Eurorack solved that. I'll be happier though when I find out how to get the headphones to work on it. In the meantime I just plug my headphones into the computer speakers.",
         "1"
        ],
        [
         "20",
         "0/0",
         "5.0",
         "Great for my podcasting",
         "I wanted to set up a home studio for recording podcast episodes and I'm on a budget. I wanted a basic product that could deliver and I found it in this mixer.Two drawbacks: 1. The manual leaves a bit to be desired. It could have more detailed directions. I had to refer to other sources (\"Podcasting for Dummies\") for more direction. 2. Connecting to a computer is a bit complicated. It took some trial and error but I finally got the right selection of adaptors and cables.If you're in the market, I'd give this a good look...",
         "1"
        ],
        [
         "21",
         "0/8",
         "5.0",
         "10 Channel Mixer",
         "I bought this mixer for my husband off his wish list. He was very excited and loves it!!!!!",
         "1"
        ],
        [
         "22",
         "0/0",
         "4.0",
         "Clean, powerful, and full-featured for the money",
         "My guitar amp bit the dust and I wanted to learn bass. I use it for both. It's overkill for home use, but the EQ makes it a versatile and fun amp. The fan is a little loud for a small room, but it's a low whoosh and doesn't get in the way",
         "1"
        ],
        [
         "23",
         "0/0",
         "5.0",
         "Loudest 250 Watts I've heard!",
         "One word: PRE OWNED!!Went to Sam Ash and played a new one that was $250 bucks, and it sounded awesome. I loved it. Then I noticed they had a pre owned one, and I picked it up for just $130 bucks! No issues at all except for some scratches and the graphic EQ on/off button is a little out of whack, but it all works great! I have the clip in the back put a only a 115 watts and plugged into my 410 cabinet, I only need it put to like 4 to be heard over really loud drums and guitar.Only complaint I have is that I wish they would have made it simple and put a mid range knob instead of all of the graphic EQ that is kind of confusing to set up, but once you get the hang of it you can really tweak your tone.For this price range(especially pre owned), this is the best amp head you can buy.",
         "1"
        ],
        [
         "24",
         "0/0",
         "5.0",
         "All the amp you need for small to medium venues",
         "This head was my first foray into component bass rigs. Prior to getting this amp I owned aFender Rumble 150 Bass Amplifier, which was all the amp I could possibly need for darn near any size venue. I purchased the Hartke, plusSeismic Audio - 1x15 & 2x10 BASS GUITAR SPEAKER CABINET COMBO PRO AUDIOto create a rig that could be downsized to a the 2x10 cab, or upsized to the full 2x10+1x15 configuration for outdoors playing. The Hartke amp drove the rig beautifully.What I like about the Hartke is the ease and precision with which you can establish a tonal baseline, then contour it to suit specific requirements. In fact, the manual has templates for documenting your EQ settings so you can quickly reset for any venue or desired sound.The ability to dial in a virtual tube tone or mix that with a solid state tone is another plus. Frankly, while the flexibility of the head with respect to tone and character is a plus, I rarely mess with it. It is nice, though, to know you have these features when you need them.However, there is one thing I do not like and I posted a customer image above to illustrate it: the carrying handle that is on the right side of the head when it is sitting flat on a cab or in a rack is problematic if you want to mount the head in a rack. Please examine the photo, which I have annotated to fully describe this issue.This head plus some decent cabs will make for a bass rig that can be configured to meet the unique requirements of a wide range of venues (and musical genres), and the price makes it a genuine value. I intend to addSeismic Audio - 4x8 Bass Guitar Speaker Cabinet PA DJ 500 Watts 4 8 with hornto give me even more configuration options.I highly recommend this head, especially if you are moving from combo amps.",
         "1"
        ],
        [
         "25",
         "0/0",
         "5.0",
         "Hartke 2500: solid value",
         "The Hartke 2500 is a 250-watt (max.) bass amp with two pre-amp settings, equalization, a high- and low-end 'cut,' compression, and master volume. Takes active or passive instruments. Effects line in/out, ground lift, fan, two speakers out. 25 lbs.I play mine through a highly rated Schroeder 12-inch 8-ohm cab, which draws 175 watts; adding another 8-ohm speaker would draw the full 250 watts. With the single speaker, I get amazing tone and power. Of course, it helps that the Schroeder speaker is top quality.Features: a tube-emulating pre-amp and a solid-state pre-amp. These can be employed separately or blended. The tube-type produces a fatter, old-fashioned sound. EQ sliders are efficient. Compression can be dialed in and is very helpful when playing louder and harder as it prevents sudden strong signals going to the speaker(s). The high- and low-end cut seems somewhat superfluous, being similar in function to the equalization function. But I may be wrong about that.Strongly built cabinet, convenient handle (on side). Hartke Co. responsive to two emails. An extremely good buy.",
         "1"
        ],
        [
         "26",
         "0/0",
         "5.0",
         "infinite tonal possibilities",
         "This is about the most versatile bass amp I've ever had. It's very clean and punchy and has plenty of power. with two preamps, a compressor, a graphic eq and high and low contour controls, this amp covers it all. Hard to beat for the price.",
         "1"
        ],
        [
         "27",
         "0/1",
         "5.0",
         "First Head. Great Buy.",
         "Let me just start off by saying that I have used the Ampeg B-2RE Bass Head and the Ampeg SVT-CL Bass Head. If you aren't familiar with amplifier heads, they are fairly high-end heads. I bought this head because I had two bass cabinets and two speaker cables, but no head. I had to resort to borrowing the Ampeg B-2RE Bass Head,from a guy at my church, when the Youth Praise Band was going to play at a Youth Rally. Just so we are clear, I am the bass player in the band. Anyway, I have been longing to own an amplifier head of my own for quite some time. Just as luck, or God, would have it my mom, dad, and church - the band previously played at - I finally had enough money to purchase one. This particular one has been on my Wishlist for quite a while. I'm not going to lie, I know less than nothing about Hartke except thatthey are a fairly decent brand. In light of this I purchased this head on April 26, 2012. It arrived exactly two days later. I immediately opened the box and set this beauty up. Now my excitement was the primary driving force and I just wanted to try out my FIRST amp head. It has a 10-band Graphic EQ similar to the Ampeg B-2RE Bass Head. That was good since I had a bit of experience with that. It also has a Compression knob. As far as general EQ it has a High and Low know, then a Master Volume. Before I get to far the Master Volume really controls the volume as opposed to some heads thathave a gain that makes it difficult to control the volume without altering your gain level. On this head the volume control works as it should. Now one cool thing I am not familiar with is the Tube Emulation and Solid-State Preamps. I've never seen or used anything of this nature so I can't tell you anything about it. As for the compression, I doubt I will use it. I'll probably keep it down low since I can add some compression on my bass guitars. For example, I have a Yamaha RBX374 that can be compressed by altering the 2-band eq. I also have a MusicMan StingRay that can be compressed from the guitar itself. So the compression feature is useful if you have a crappy bass that lacks tone controls. In this case a Pete Wentz Signature P-bass. It only has a volume control. Anyway, I love this head. I am close to getting the EQ set the way I want it. Don't let this review cause you to have second thoughts about buying this. Oh and I am sorry for all of the rambling I did. I would recommend this head to any intermediate>semiPro players. I run this through Seismic Audio 4x10 & 1x15. The head puts out a very deep and rich low and a \"punch you in the mouth\" high. The attack that you can get with his head almost resembles Victor Wooten's setting. (His is PERFECT) You will not be disappointed by this head. It looks complicated, but the Graphic EQ is probably the simplest feature on the deal. My sister could probably set it and she doesn't even play bass; much less own an amplifier of any kind. You need to buy this before they go out of stock. This is a steal. I mean come on! It's only $249.99! Don't hesitate because you will be sorry. I mean you could get better, but there will always be a better one out there. (Markbass as an example) You need to buy this whether this will be your first, you already have one, trying to replace, looking to expand your sound, etc. Whatever the reason buy this bad boy.",
         "1"
        ],
        [
         "28",
         "2/6",
         "5.0",
         "Ernie Leblanc: Endorsed Hartke Bassist",
         "Ernie Leblanc: Endorsed Hartke Bassist, August 1, 2009By \"Ernie Leblanc\" (Providence, Rhode Island USA) - See all my reviewsMany thanks to Larry Hartke for my Hartke Endorsement and to The Music Stand in Smithfield RI for supplying Harke Bass Amps. The Harke 2500 Bass Amp is a perfect fit for my sound and style and for venues large and small. This amp truly has \"incredible clarity and punch\" as Hartke claims. Best of all, I have MANY HAPPY DANCING FANS!!!Thanks Hartke and The Music Stand!- Ernie LeblancProud Endorser of Spector, RotoSound & Hartke BassProvidence, Rhode Island USA[...]",
         "1"
        ],
        [
         "29",
         "0/0",
         "5.0",
         "Likeable right after installation",
         "Many strings are known to have a long break-in time. I don't know how long it will take before these are \"broken in\" but I like the sound right out of the package. Many people have trouble with E strings--this E string sounds very nice. I will buy these strings again when it is time to replace them.",
         "1"
        ],
        [
         "30",
         "2/2",
         "5.0",
         "JBL MRX512M",
         "JBL has several price points for it's professional sound reinforcement products. JRX is the least expensive and MRX is the second least expensive. The MRX series offer higher quality and durability for a very reasonable price. These are normally $700.00 each. Amazon offered a new \"opened\" package which I was able to purchase for much less. These are extremely lightweight for the amount of power they can handle. Power handling is between 400 and 1600 watts depending on the program. Nominal wattage is 800 watts into 8 ohms. Excellent for live monitoring or as mains for smaller venues. Speakon in and out connectors only. Non protruding handle. Great product.",
         "1"
        ],
        [
         "31",
         "1/1",
         "5.0",
         "Light, Loud, and Clear",
         "Goods: These are JBL's MI level speakers - a good value with reasonable power-handling, clear sound, and light weight. If you are searching for portable, low-cost passive speakers for professional applications (think DJ, Church, or small event/venue band) these are the entry-level baseline. The portablility is fantastic: anyone can carry one in each hand. They also double as excellent stage monitors. Add a subwoofer (or two) and they can do the job as mains for 100-200 person events. Speakon connectors on the top and bottom, pro-level \"duraflex\" covering, and level or tip-down mounting for better throw/close-in crowd coverage make them solid utility speakers. Plan on using a 500 to 1,000 watt stereo amp into the 8 ohm speaker load for best performance.Others: They don't splay well for more coverage, they don't put out arena rock sound, and they use a passive crossover. That's it - I love mine and unless you are getting $1K/show, they do a great job for reasonable money.",
         "1"
        ],
        [
         "32",
         "1/1",
         "4.0",
         "JBL MRX528S",
         "The best sub performance I have ever had in 12 years. Compact, light, POWERFUL. Can handle btween 2000-4000 watts bridged mono. Im only running 2400 watts with a QSC2450 and Im going to upgrade to an amp with about 3200-3500 watts to see what it can do without getting to close to its limit. $1000 bucks is reasonable considering I've burnt the coil in 3 out of 4 Harbinger subs at a loss of about $800 bucks. The only thing that it could use is maybe some casters(wheels) on the back bottom for transport. Unless you have long arms you will need another person to carry into most venues. The \"rhino liner\" or whatever its called is ok but does chip exposing the wood. Recommend buying some extra hardware like corner gaurds. I use hockey pucks to protect the top from stacking \"Mains\" with broken or no feet. Watch your clipping and have fun!",
         "1"
        ],
        [
         "33",
         "3/3",
         "5.0",
         "Keeps Reeds in \"ready to go\" condition.",
         "Purchased Rico cases for my son and daughter. They play alto sax and clarinet. We live in Arizona where the humidity can get down to as low as 2% which can dry out, warp and damage reeds. During the Monsoon season it can get really humid. We have both extremes here, but mostly low humidity.The 73% RH packet keeps the reeds in \"nearly\" ready to play condition. Just a few seconds in his lips and its ready to go.Currently my son is using Rico Royal reeds and my daughter uses Vandoren and Rico Select reeds.The price is comparable to local music stores, but no sales tax. If I were just buying one, I'd buy it locally because the shipping costs. The pack comes sealed in a paper-foil package like those hand wipes you sometimes get at restaurants, so you can buy several and store them until its needed.I bought the replacement pack because we would be needing it and to get free shipping (I was short a few bucks).",
         "1"
        ],
        [
         "34",
         "0/0",
         "5.0",
         "Great for reeds!",
         "My niece was having a problem with her reeds molding, so I purchased this, along with the reed keeper, for her to use. Problem solved!",
         "1"
        ],
        [
         "35",
         "0/0",
         "5.0",
         "Important for true musicians",
         "The latest in keeping your reeds moist, especially when in competition or preparing for audition. My son considers this necessary.",
         "1"
        ],
        [
         "36",
         "0/0",
         "5.0",
         "Met expectations (which were high to start)",
         "No issues. Simple and effective at maintaining reed moisture content as advertised. I will purchase additional units, as needed, in the future.",
         "1"
        ],
        [
         "37",
         "0/0",
         "4.0",
         "It works",
         "My son's saxophone teacher recommended this product. It does work, keeping the reeds in ready condition and without drying out and warp. Minus one star for the price as it needs to be replaced often. Still I'd recommend the reed case and the refills. Very nice products.",
         "1"
        ],
        [
         "38",
         "0/1",
         "5.0",
         "Save your expensive reeds!",
         "My son plays the saxophone - reeds are so expensive! This product really extends the life of the reeds. Worth the small investment!",
         "1"
        ],
        [
         "39",
         "0/0",
         "5.0",
         "Hercules has done a good job with the pegs",
         "Hercules has done a good job with the pegs. They are adjustable and I'm able to get a good fit with each of my trumpets and my cornet. The velvet is non-marring, so I'm comfortable using them on the bell of my horns.I use the pegs on the base of my Hercules music stand - there are places to screw them in on the legs of the stand (that's why I picked that music stand). I also have a 3-way floor stand for 2 trumpets and 1 flugelhorn. The flugelhorn peg is different, so I purchased another trumpet peg and swapped it out so that I can use the floor stand for my 2 trumpets and 1 cornet.I actually have two Hercules music stands, plus the floor stand, so I'm using 7 of these pegs (and I have a flugelhorn peg I'm not yet using...)The adjusting clamp tends to slip a bit on the peg... I wish it gripped tighter... but it hasn't caused a problem for me...",
         "1"
        ],
        [
         "40",
         "2/2",
         "5.0",
         "Hercules Soprano Saxophone Stand",
         "I bought this Soprano Saxophone adjunct for the Hercules DS543B Flute, Clarinet, and Piccolo Stand and replaced the Piccolo Stand with it. I now have a sturdy, functional stand for my flute, clarinet and soprano saxophone. Before I bought the stand I was concerned that the saxophone may have been heavy enough and tall enough to cause balance problems, but the stand is very well designed and the balance is excellent.",
         "1"
        ],
        [
         "41",
         "1/1",
         "5.0",
         "Excellent!",
         "Very pleased with this SOP Sax peg. Securely holds instrument in place, and is a great addition to the Hercules alto sax stand.",
         "1"
        ],
        [
         "42",
         "1/1",
         "5.0",
         "soprano sax stand",
         "Because I'm a \"doubler\" I need flexibility and with this peg my soprano sax stays secure. I especially like the felt-like exterior and the solid feel of the base into which it goes.",
         "1"
        ],
        [
         "43",
         "1/1",
         "4.0",
         "Works well with my Hercules stand",
         "I love that I was able to purchase this peg and simply add it to my existing Hercules stand. I also have a tenor sax cradle and a flute peg on the same stand, so this works great. I like the Hercules brand because they're sturdy and fold up nicely.",
         "1"
        ],
        [
         "44",
         "0/0",
         "5.0",
         "Cool",
         "Screwed it in, the horn doesn't fall down The stand itsel is sturdy and well made. In addition it folds up neatly",
         "1"
        ],
        [
         "45",
         "0/0",
         "5.0",
         "Sturdy and firm",
         "I have a saprano sax that I put on this stand. The stand also holds clarinets. The ball on top of this peg is great for guidance when putting the sax on or taking it out. The bell part is adjustable which is nice to have, if you plan to put different instrument on. It is easy to screw out of the stand and use another peg for other instruments.",
         "1"
        ],
        [
         "46",
         "0/0",
         "5.0",
         "The Finest Instrument Stand On The Market!",
         "I have previously purchased several Hercules instrument stands and I couldn't be more pleased. I own the tenor sax stand, soprano sax/flugelhorn stand, flute stand, upright bass stand and now the trumpet stand. I find them all to be superior to any other instrument stands I've owned.The trumpet stand is light and strong with legs that fold out and lock into place. The center stem easily threads on -- and also fits on other Hercules bases. The bell cone is felt-covered and is height adjustable to fit virtually any trumpet. It locks into place securely. The entire stand folds up neatly and fits in the supplied travel bag with its handy pull cord.The design of the stand is very sturdy and the materials are strong but lightweight. The non-skid feet are a real plus on bare floors. The soft surfaces that gently contact the instrument offer excellent protection. I can quickly and conveniently place my horn on this stand and know that it is stable and well protected. With Amazon's great price, I couldn't ask for more.",
         "1"
        ],
        [
         "47",
         "0/0",
         "5.0",
         "Hercules ds510b trumpet stand",
         "Great product. Sturdy and well made. I am happy with how stable the base is and how it fits in the bell of my trumpet. I highly recommend the stand. It is adjustable for different size bells with just a quick change. I like the fact that it places the trumpet higher off the ground when I am standing to play.",
         "1"
        ],
        [
         "48",
         "0/0",
         "4.0",
         "Great look, compact, brilliant!",
         "I found that the Hercules DS510B was beautiful in looks and was stunning. The only flaw I had with it was the bell part of the stand was not easy to fit away in my trumpet case. Other than that, I love it! Would highly recommend it.",
         "1"
        ],
        [
         "49",
         "1/2",
         "5.0",
         "gret little stand",
         "low priced, but serves the purpose. Holds trumpet securely without falling. Folds up, but not enough to fit in your horn case.",
         "1"
        ],
        [
         "51",
         "1/1",
         "1.0",
         "Rubber tipped mallets",
         "I bought these little rubber mallets for my glockenspeil, it was a bad idea. The sound is muted and they do not work, stick with conventional plastic or wood.",
         "0"
        ],
        [
         "53",
         "0/0",
         "4.0",
         "good mallets for toddlers to play with",
         "I bought these mallets as toys for my toddlers to bang on their drum set. I reduced one star because the plastic round part of the mallet may pop off and could be a choking hazard. It can easily be fixed and I really think they're okay to give the kids as long as your watching them (or your kids have matured enough to know not to put the plastic in their mouths). Given that toddlers have a knack for breaking things and/or losing things, I think these were worth buying.",
         "1"
        ],
        [
         "55",
         "5/5",
         "5.0",
         "An amazing soundtrack for a fantastic video game.",
         "True, DigiCube no longer manufactures this OST, and the best you'll find is some pirated version from Son May or Ever Anime, but either way, get your hands on this soundtrack. It's a brilliant piece of music elegantly composed by Ms. Shimomura, who is now known for her works on Kingdom Hearts.The first track, Primal Eyes, is crafted to fit the game to a Tee, but leave it alone and you have a beautiful techno song. The soundtrack progresses to invent new compositions that hadn't been offered around 1998, and still can't be offered as enthusiastically as Yoko Shimomura herself has. As I've said; pick it up. You won't be disappointed!",
         "1"
        ]
       ],
       "shape": {
        "columns": 5,
        "rows": 78900
       }
      },
      "text/html": [
       "<div>\n",
       "<style scoped>\n",
       "    .dataframe tbody tr th:only-of-type {\n",
       "        vertical-align: middle;\n",
       "    }\n",
       "\n",
       "    .dataframe tbody tr th {\n",
       "        vertical-align: top;\n",
       "    }\n",
       "\n",
       "    .dataframe thead th {\n",
       "        text-align: right;\n",
       "    }\n",
       "</style>\n",
       "<table border=\"1\" class=\"dataframe\">\n",
       "  <thead>\n",
       "    <tr style=\"text-align: right;\">\n",
       "      <th></th>\n",
       "      <th>review/helpfulness</th>\n",
       "      <th>review/score</th>\n",
       "      <th>review/summary</th>\n",
       "      <th>review/text</th>\n",
       "      <th>sentiment</th>\n",
       "    </tr>\n",
       "  </thead>\n",
       "  <tbody>\n",
       "    <tr>\n",
       "      <th>1</th>\n",
       "      <td>9/9</td>\n",
       "      <td>5.0</td>\n",
       "      <td>Now I won't have to invest in a Leslie speaker!</td>\n",
       "      <td>No other way to put it: this thing is WONDERFU...</td>\n",
       "      <td>1</td>\n",
       "    </tr>\n",
       "    <tr>\n",
       "      <th>2</th>\n",
       "      <td>3/3</td>\n",
       "      <td>4.0</td>\n",
       "      <td>Fun Toy</td>\n",
       "      <td>This effect has an interesting sound somewhere...</td>\n",
       "      <td>1</td>\n",
       "    </tr>\n",
       "    <tr>\n",
       "      <th>3</th>\n",
       "      <td>2/2</td>\n",
       "      <td>5.0</td>\n",
       "      <td>Danelectro DJ-20C Rocky Road Spin Speaker Mini...</td>\n",
       "      <td>This pedal is cheaply made but it sounds terri...</td>\n",
       "      <td>1</td>\n",
       "    </tr>\n",
       "    <tr>\n",
       "      <th>4</th>\n",
       "      <td>1/1</td>\n",
       "      <td>5.0</td>\n",
       "      <td>Leslie in a nutshell</td>\n",
       "      <td>Danelectro DJ-20C Rocky Road Spin Speaker Mini...</td>\n",
       "      <td>1</td>\n",
       "    </tr>\n",
       "    <tr>\n",
       "      <th>5</th>\n",
       "      <td>1/2</td>\n",
       "      <td>5.0</td>\n",
       "      <td>Great for guitar if you time it right!</td>\n",
       "      <td>Got this thinking I could make my guitars soun...</td>\n",
       "      <td>1</td>\n",
       "    </tr>\n",
       "    <tr>\n",
       "      <th>...</th>\n",
       "      <td>...</td>\n",
       "      <td>...</td>\n",
       "      <td>...</td>\n",
       "      <td>...</td>\n",
       "      <td>...</td>\n",
       "    </tr>\n",
       "    <tr>\n",
       "      <th>85399</th>\n",
       "      <td>4/4</td>\n",
       "      <td>4.0</td>\n",
       "      <td>Good Entry Mixer</td>\n",
       "      <td>Pros: This product is good for its price, hold...</td>\n",
       "      <td>1</td>\n",
       "    </tr>\n",
       "    <tr>\n",
       "      <th>85400</th>\n",
       "      <td>1/1</td>\n",
       "      <td>5.0</td>\n",
       "      <td>Nice mixer!</td>\n",
       "      <td>It's fulfiled with features, not a regular mix...</td>\n",
       "      <td>1</td>\n",
       "    </tr>\n",
       "    <tr>\n",
       "      <th>85401</th>\n",
       "      <td>1/2</td>\n",
       "      <td>4.0</td>\n",
       "      <td>how does this compare to DJX750?</td>\n",
       "      <td>I used to have this mixer. I was used to using...</td>\n",
       "      <td>1</td>\n",
       "    </tr>\n",
       "    <tr>\n",
       "      <th>85403</th>\n",
       "      <td>8/15</td>\n",
       "      <td>5.0</td>\n",
       "      <td>BETTER THAN ADVERTISED!!!</td>\n",
       "      <td>I PURCHACED THIS A YEAR AGO, AND I STILL ENJOY...</td>\n",
       "      <td>1</td>\n",
       "    </tr>\n",
       "    <tr>\n",
       "      <th>85404</th>\n",
       "      <td>3/21</td>\n",
       "      <td>5.0</td>\n",
       "      <td>From 2 Radio Shack mixers to a Behringer DJX700</td>\n",
       "      <td>I needed to replace some old Radio Shack mixer...</td>\n",
       "      <td>1</td>\n",
       "    </tr>\n",
       "  </tbody>\n",
       "</table>\n",
       "<p>78900 rows × 5 columns</p>\n",
       "</div>"
      ],
      "text/plain": [
       "      review/helpfulness  review/score  \\\n",
       "1                    9/9           5.0   \n",
       "2                    3/3           4.0   \n",
       "3                    2/2           5.0   \n",
       "4                    1/1           5.0   \n",
       "5                    1/2           5.0   \n",
       "...                  ...           ...   \n",
       "85399                4/4           4.0   \n",
       "85400                1/1           5.0   \n",
       "85401                1/2           4.0   \n",
       "85403               8/15           5.0   \n",
       "85404               3/21           5.0   \n",
       "\n",
       "                                          review/summary  \\\n",
       "1        Now I won't have to invest in a Leslie speaker!   \n",
       "2                                                Fun Toy   \n",
       "3      Danelectro DJ-20C Rocky Road Spin Speaker Mini...   \n",
       "4                                   Leslie in a nutshell   \n",
       "5                 Great for guitar if you time it right!   \n",
       "...                                                  ...   \n",
       "85399                                   Good Entry Mixer   \n",
       "85400                                        Nice mixer!   \n",
       "85401                   how does this compare to DJX750?   \n",
       "85403                          BETTER THAN ADVERTISED!!!   \n",
       "85404    From 2 Radio Shack mixers to a Behringer DJX700   \n",
       "\n",
       "                                             review/text  sentiment  \n",
       "1      No other way to put it: this thing is WONDERFU...          1  \n",
       "2      This effect has an interesting sound somewhere...          1  \n",
       "3      This pedal is cheaply made but it sounds terri...          1  \n",
       "4      Danelectro DJ-20C Rocky Road Spin Speaker Mini...          1  \n",
       "5      Got this thinking I could make my guitars soun...          1  \n",
       "...                                                  ...        ...  \n",
       "85399  Pros: This product is good for its price, hold...          1  \n",
       "85400  It's fulfiled with features, not a regular mix...          1  \n",
       "85401  I used to have this mixer. I was used to using...          1  \n",
       "85403  I PURCHACED THIS A YEAR AGO, AND I STILL ENJOY...          1  \n",
       "85404  I needed to replace some old Radio Shack mixer...          1  \n",
       "\n",
       "[78900 rows x 5 columns]"
      ]
     },
     "execution_count": 36,
     "metadata": {},
     "output_type": "execute_result"
    }
   ],
   "source": [
    "# Replace 'positive' with 1 and 'negative' with 0\n",
    "df['sentiment'] = df['sentiment'].map({'negative': 0, 'positive': 1})\n",
    "print(df['sentiment'].value_counts())\n",
    "df\n"
   ]
  },
  {
   "cell_type": "code",
   "execution_count": 40,
   "metadata": {},
   "outputs": [],
   "source": [
    "# df.to_csv('cleaned_reviews.csv', index=False)\n",
    "import re\n",
    "from nltk.corpus import stopwords\n",
    "from nltk.stem import WordNetLemmatizer\n",
    "\n",
    "lemmatizer = WordNetLemmatizer()\n",
    "stop_words = set(stopwords.words('english'))\n",
    "\n",
    "def preprocess_text(text):\n",
    "    text = text.lower()\n",
    "    text = re.sub(r'[^a-z\\s]', '', text)\n",
    "    text = ' '.join([lemmatizer.lemmatize(word) for word in text.split() if word not in stop_words])\n",
    "    return text\n",
    "\n",
    "df['cleaned_text'] = df['review/text'].apply(preprocess_text)"
   ]
  },
  {
   "cell_type": "code",
   "execution_count": 42,
   "metadata": {},
   "outputs": [],
   "source": [
    "df = df.drop(columns=['review/text'])"
   ]
  },
  {
   "cell_type": "code",
   "execution_count": 43,
   "metadata": {},
   "outputs": [],
   "source": [
    "df.to_csv('cleaned_reviews.csv', index=False)"
   ]
  },
  {
   "cell_type": "code",
   "execution_count": 44,
   "metadata": {},
   "outputs": [],
   "source": [
    "from sklearn.model_selection import train_test_split\n",
    "\n",
    "X_train, X_test, y_train, y_test = train_test_split(\n",
    "    df['cleaned_text'], df['sentiment'], \n",
    "    test_size=0.2, random_state=42\n",
    ")"
   ]
  },
  {
   "cell_type": "code",
   "execution_count": null,
   "metadata": {},
   "outputs": [
    {
     "ename": "ModuleNotFoundError",
     "evalue": "No module named 'tensorflow'",
     "output_type": "error",
     "traceback": [
      "\u001b[1;31m---------------------------------------------------------------------------\u001b[0m",
      "\u001b[1;31mModuleNotFoundError\u001b[0m                       Traceback (most recent call last)",
      "Cell \u001b[1;32mIn[46], line 1\u001b[0m\n\u001b[1;32m----> 1\u001b[0m \u001b[38;5;28;01mfrom\u001b[39;00m \u001b[38;5;21;01mtensorflow\u001b[39;00m\u001b[38;5;21;01m.\u001b[39;00m\u001b[38;5;21;01mkeras\u001b[39;00m\u001b[38;5;21;01m.\u001b[39;00m\u001b[38;5;21;01mpreprocessing\u001b[39;00m\u001b[38;5;21;01m.\u001b[39;00m\u001b[38;5;21;01mtext\u001b[39;00m \u001b[38;5;28;01mimport\u001b[39;00m Tokenizer\n\u001b[0;32m      2\u001b[0m \u001b[38;5;28;01mfrom\u001b[39;00m \u001b[38;5;21;01mtensorflow\u001b[39;00m\u001b[38;5;21;01m.\u001b[39;00m\u001b[38;5;21;01mkeras\u001b[39;00m\u001b[38;5;21;01m.\u001b[39;00m\u001b[38;5;21;01mpreprocessing\u001b[39;00m\u001b[38;5;21;01m.\u001b[39;00m\u001b[38;5;21;01msequence\u001b[39;00m \u001b[38;5;28;01mimport\u001b[39;00m pad_sequences\n\u001b[0;32m      4\u001b[0m \u001b[38;5;66;03m# Parameters\u001b[39;00m\n",
      "\u001b[1;31mModuleNotFoundError\u001b[0m: No module named 'tensorflow'"
     ]
    }
   ],
   "source": [
    "import tensorflow\n",
    "from tensorflow.keras.preprocessing.text import Tokenizer\n",
    "from tensorflow.keras.preprocessing.sequence import pad_sequences\n",
    "\n",
    "# Parameters\n",
    "vocab_size = 5000  # you can adjust based on your data\n",
    "max_length = 100   # adjust based on typical sentence length\n",
    "\n",
    "# Tokenization\n",
    "tokenizer = Tokenizer(num_words=vocab_size, oov_token=\"<OOV>\")\n",
    "tokenizer.fit_on_texts(X_train)\n",
    "\n",
    "# Convert texts to sequences\n",
    "X_train_seq = tokenizer.texts_to_sequences(X_train)\n",
    "X_test_seq = tokenizer.texts_to_sequences(X_test)\n",
    "\n",
    "# Padding sequences\n",
    "X_train_pad = pad_sequences(X_train_seq, maxlen=max_length, padding='post', truncating='post')\n",
    "X_test_pad = pad_sequences(X_test_seq, maxlen=max_length, padding='post', truncating='post')"
   ]
  },
  {
   "cell_type": "code",
   "execution_count": null,
   "metadata": {},
   "outputs": [],
   "source": [
    "from tensorflow.keras.models import Sequential\n",
    "from tensorflow.keras.layers import Embedding, LSTM, Dense, Dropout\n",
    "\n",
    "# Define the model\n",
    "model = Sequential([\n",
    "    Embedding(input_dim=vocab_size, output_dim=64, input_length=max_length),\n",
    "    LSTM(64, return_sequences=True),\n",
    "    Dropout(0.2),\n",
    "    LSTM(32),\n",
    "    Dropout(0.2),\n",
    "    Dense(1, activation='sigmoid')\n",
    "])\n",
    "\n",
    "# Summarize the model architecture\n",
    "model.summary()\n"
   ]
  },
  {
   "cell_type": "code",
   "execution_count": null,
   "metadata": {},
   "outputs": [],
   "source": [
    "model.compile(\n",
    "    loss='binary_crossentropy',\n",
    "    optimizer='adam',\n",
    "    metrics=['accuracy']\n",
    ")\n"
   ]
  },
  {
   "cell_type": "code",
   "execution_count": null,
   "metadata": {},
   "outputs": [],
   "source": [
    "history = model.fit(\n",
    "    X_train_pad, y_train,\n",
    "    epochs=10,\n",
    "    batch_size=32,\n",
    "    validation_split=0.2,\n",
    "    verbose=1\n",
    ")\n"
   ]
  },
  {
   "cell_type": "code",
   "execution_count": null,
   "metadata": {},
   "outputs": [],
   "source": [
    "loss, accuracy = model.evaluate(X_test_pad, y_test, verbose=1)\n",
    "print(f'Test Accuracy: {accuracy:.4f}')\n"
   ]
  },
  {
   "cell_type": "code",
   "execution_count": null,
   "metadata": {},
   "outputs": [],
   "source": [
    "# Example review\n",
    "new_review = [\"The product quality is excellent and I'm very satisfied with my purchase.\"]\n",
    "\n",
    "# Preprocess the review\n",
    "new_review_seq = tokenizer.texts_to_sequences(new_review)\n",
    "new_review_pad = pad_sequences(new_review_seq, maxlen=max_length, padding='post', truncating='post')\n",
    "\n",
    "# Predict sentiment\n",
    "prediction = model.predict(new_review_pad)\n",
    "sentiment = 'positive' if prediction[0][0] >= 0.5 else 'negative'\n",
    "print(f'Sentiment: {sentiment}')\n"
   ]
  },
  {
   "cell_type": "code",
   "execution_count": null,
   "metadata": {},
   "outputs": [],
   "source": [
    "# Save the model\n",
    "model.save('sentiment_analysis_model.h5')\n",
    "\n",
    "# Load the model\n",
    "from tensorflow.keras.models import load_model\n",
    "loaded_model = load_model('sentiment_analysis_model.h5')\n"
   ]
  }
 ],
 "metadata": {
  "kernelspec": {
   "display_name": "base",
   "language": "python",
   "name": "python3"
  },
  "language_info": {
   "codemirror_mode": {
    "name": "ipython",
    "version": 3
   },
   "file_extension": ".py",
   "mimetype": "text/x-python",
   "name": "python",
   "nbconvert_exporter": "python",
   "pygments_lexer": "ipython3",
   "version": "3.11.7"
  }
 },
 "nbformat": 4,
 "nbformat_minor": 2
}
